{
 "cells": [
  {
   "cell_type": "markdown",
   "metadata": {},
   "source": [
    "1. Create a file that contains the list of integers from 0 to 10. Each integer should be on a separate line.\n",
    "1. Create a file that contains the list of odd integers from 0 to 10. Each integer should be on a separate line.\n",
    "1. Create a file that contains prime integers from 0 to 20. Each integer should be on a separate line.\n",
    "1. Create a program that asks the user to enter a word, if the entered value is \"quit\" then the program should stop otherwise the program adds the word into a list and asks the user to enter again another word and applies the same rule as the first word (\"quit\" means to stop otherwise add to a list and continue). When the program end (when the user types \"quit\") the program should write the content of the list into a file where each word is in a spearate line.\n"
   ]
  }
 ],
 "metadata": {
  "language_info": {
   "name": "python"
  }
 },
 "nbformat": 4,
 "nbformat_minor": 2
}
