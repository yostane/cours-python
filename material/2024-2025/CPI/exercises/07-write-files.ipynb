{
 "cells": [
  {
   "cell_type": "markdown",
   "metadata": {},
   "source": [
    "# Exercises\n",
    "\n",
    "## Part 1\n",
    "1. Create a file that contains the list of integers from 0 to 10. Each integer should be on a separate line.\n",
    "1. Create a file that contains the list of odd integers from 0 to 10. Each integer should be on a separate line.\n",
    "1. Create a file that contains prime integers from 0 to 20. Each integer should be on a separate line."
   ]
  },
  {
   "cell_type": "markdown",
   "metadata": {},
   "source": [
    "## Part 2\n",
    "\n",
    "1. Create a program asks the user to enter a number, the program then creates a file that contains the list of integers from 0 to the entered number. Each integer should be on a separate line.\n",
    "1. Create a program that asks the user to enter a word, if the entered value is \"quit\" then the program should stop otherwise the program adds the word into a list and asks the user to enter again another word and applies the same rule as the first word (\"quit\" means to stop otherwise add to a list and continue). When the program end (when the user types \"quit\") the program should write the content of the list into a file where each word is in a spearate line."
   ]
  },
  {
   "cell_type": "markdown",
   "metadata": {},
   "source": [
    "## Part 3\n",
    "\n",
    "Python can generate random numbers (they are pseudo-random to be more precise) like this:\n",
    "\n",
    "```python\n",
    "import random\n",
    "\n",
    "random_number = random.randint(1, 100)\n",
    "print(random_number)\n",
    "```\n",
    "\n",
    "1. Create a program that generates a random number between 1 and 100 and prints it and creates a file that contains the list of integers from 0 to the generated number.\n",
    "    - Each integer should be on a separate line.\n",
    "    - Create another file where all the numbers are on the same line but separated by a comma.\n",
    "1. Create a program that generates a random number between 1 and 20 and create a file that writes all numbers from 0 to the generated number in this format `[number] [True if the number is even of False otherwise]`. For example, if the generated number is 5 then the file should contain:\n",
    "    ```\n",
    "    0 True\n",
    "    1 False\n",
    "    2 True\n",
    "    3 False\n",
    "    4 True\n",
    "    5 False\n",
    "    ```\n",
    "1. Let's suppose we have this list of strings `[\"apple\", \"banana\", \"cherry\"]`. \n",
    "    - Create a file that contains 4 lines where each line is a random string from the list. For example:\n",
    "    ```\n",
    "    cherry\n",
    "    apple\n",
    "    apple\n",
    "    cherry\n",
    "    ```\n",
    "    - After the file is created, open the file in read mode and:\n",
    "        - Print the content of the file in reverse order.\n",
    "        - Print how many times each string appears in the file. For example:\n",
    "        ```\n",
    "        apple: 2\n",
    "        banana: 0\n",
    "        cherry: 2\n",
    "        ```\n",
    " "
   ]
  }
 ],
 "metadata": {
  "language_info": {
   "name": "python"
  }
 },
 "nbformat": 4,
 "nbformat_minor": 2
}
