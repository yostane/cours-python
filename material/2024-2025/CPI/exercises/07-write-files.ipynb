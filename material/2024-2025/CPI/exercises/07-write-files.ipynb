{
 "cells": [
  {
   "cell_type": "markdown",
   "metadata": {},
   "source": [
    "1. Create a file that contains the list of integers from 0 to 10. Each integer should be on a separate line.\n",
    "1. Create a file that contains the list of odd integers from 0 to 10. Each integer should be on a separate line.\n",
    "1. Create a file that contains prime integers from 0 to 20. Each integer should be on a separate line."
   ]
  }
 ],
 "metadata": {
  "language_info": {
   "name": "python"
  }
 },
 "nbformat": 4,
 "nbformat_minor": 2
}
