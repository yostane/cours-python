{
 "cells": [
  {
   "cell_type": "markdown",
   "metadata": {},
   "source": [
    "# Exercises\n",
    "\n",
    "## Part 1\n",
    "1. Create a file that contains the integers from 0 to 10. Each integer must be on a separate line.\n",
    "1. Create a file that contains the odd integers from 0 to 10. Each integer should be on a separate line.\n",
    "1. Create a file that contains prime integers from 0 to 20. Each integer should be on a separate line.\n",
    "    - A prime number is a number that has only two distict divisors."
   ]
  },
  {
   "cell_type": "code",
   "execution_count": 1,
   "metadata": {},
   "outputs": [
    {
     "name": "stdout",
     "output_type": "stream",
     "text": [
      "Part 1 - 1\n"
     ]
    }
   ],
   "source": [
    "print(\"Part 1 - 1\")\n",
    "lines = []\n",
    "for i in range(11):\n",
    "    lines.append(str(i) + \"\\n\")\n",
    "f = open(\"part1-1.txt\", \"w\")\n",
    "f.writelines(lines)\n",
    "f.close()"
   ]
  },
  {
   "cell_type": "code",
   "execution_count": 4,
   "metadata": {},
   "outputs": [
    {
     "name": "stdout",
     "output_type": "stream",
     "text": [
      "[1, 3, 5, 7, 9]\n",
      "[-10, -6, -2, 2, 6, 10, 14, 18, 22, 26]\n",
      "[10, 9, 8, 7, 6, 5, 4, 3, 2, 1, 0, -1, -2, -3, -4, -5, -6, -7, -8, -9]\n",
      "[10, 9, 8, 7, 6, 5, 4, 3, 2, 1, 0, -1, -2, -3, -4, -5, -6, -7, -8, -9, -10]\n"
     ]
    }
   ],
   "source": [
    "# [1, 11[ with in increment of 2\n",
    "# increment means to increase a value\n",
    "print(list(range(1, 11, 2)))\n",
    "print(list(range(-10, 30, 4)))\n",
    "# the opposite is decrement\n",
    "print(list(range(10, -10, -1)))\n",
    "print(list(range(10, -11, -1)))"
   ]
  },
  {
   "cell_type": "code",
   "execution_count": null,
   "metadata": {},
   "outputs": [
    {
     "name": "stdout",
     "output_type": "stream",
     "text": [
      "10\n",
      "\n",
      "10\n",
      "\n",
      "Hello. The value of i is: 10\n",
      "Hello. The value of i is: {i}\n",
      "i: 10, some other value: 1, another one [1, 55, -101]\n"
     ]
    }
   ],
   "source": [
    "i = 10\n",
    "# convert i to a string and concatenate it with a line break\n",
    "print(str(i) + \"\\n\")\n",
    "# the same with string interpolation\n",
    "print(f\"{i}\\n\")\n",
    "# String interpolation with f\"\" allow to insert values of variables in a string\n",
    "print(f\"Hello. The value of i is: {i}\")\n",
    "# Wihtout f before \" -> {i} become just regular characters and there is no interpolation\n",
    "print(\"Hello. The value of i is: {i}\")\n",
    "numbers = [1, 55, -101]\n",
    "print(f\"i: {i}, some other value: {numbers[0]}, another one {numbers}\")\n",
    "# : this character is called \"column\" in english\n",
    "# ; semi-column\n",
    "# [] square-brackets\n",
    "# {} curly braces\n",
    "# , comma\n",
    "# \"\" a pair of double quotes\n",
    "# '' a pair of single quotes"
   ]
  },
  {
   "cell_type": "code",
   "execution_count": null,
   "metadata": {},
   "outputs": [
    {
     "name": "stdout",
     "output_type": "stream",
     "text": [
      "Part 1 - 2\n"
     ]
    }
   ],
   "source": [
    "print(\"Part 1 - 2\")\n",
    "lines = []\n",
    "# range(1, 11, 2) => [1, 3, 5, 7, 9]\n",
    "for i in range(1, 11, 2):\n",
    "    # f\"{i}\\n\" -> will create these strings \"1\\n\", \"3\\n\", ...\n",
    "    lines.append(f\"{i}\\n\")\n",
    "f = open(\"part1-2.txt\", \"w\")\n",
    "f.writelines(lines)\n",
    "f.close()"
   ]
  },
  {
   "cell_type": "code",
   "execution_count": 12,
   "metadata": {},
   "outputs": [
    {
     "name": "stdout",
     "output_type": "stream",
     "text": [
      "part 1-3: Create a file that contains prime integers from 0 to 20. Each integer should be on a separate line.\n",
      "is_prime(0) False\n",
      "is_prime(1) False\n",
      "is_prime(2) True\n",
      "is_prime(3) True\n",
      "is_prime(5) True\n",
      "is_prime(11) True\n",
      "is_prime(101) True\n",
      "is_prime(86) False\n"
     ]
    }
   ],
   "source": [
    "print(\"part 1-3: Create a file that contains prime integers from 0 to 20. Each integer should be on a separate line.\")\n",
    "def is_prime(n):\n",
    "    if 0 <= n <= 1:\n",
    "        # by convention\n",
    "        return False\n",
    "    if n == 2:\n",
    "        return True\n",
    "    for i in range(2, n):\n",
    "        if n % i == 0:\n",
    "            return False\n",
    "    return True\n",
    "\n",
    "print(\"is_prime(0)\", is_prime(0))\n",
    "print(\"is_prime(1)\", is_prime(1))\n",
    "print(\"is_prime(2)\", is_prime(2))\n",
    "print(\"is_prime(3)\", is_prime(3))\n",
    "print(\"is_prime(5)\", is_prime(5))\n",
    "print(\"is_prime(11)\", is_prime(11))\n",
    "print(\"is_prime(101)\", is_prime(101))\n",
    "print(\"is_prime(86)\", is_prime(86))\n",
    "\n",
    "lines = []\n",
    "for i in range(21):\n",
    "    if is_prime(i):\n",
    "        lines.append(f\"{i}\\n\")\n",
    "f = open(\"part1-3.txt\", \"w\")\n",
    "f.writelines(lines)\n",
    "f.close()"
   ]
  },
  {
   "cell_type": "markdown",
   "metadata": {},
   "source": [
    "## Part 2\n",
    "\n",
    "1. Create a program asks the user to enter a number, the program then creates a file that contains the list of integers from 0 to the entered number. Each integer should be on a separate line.\n",
    "1. Create a program that asks the user to enter a word, if the entered value is \"quit\" then the program should stop otherwise the program adds the word into a list and asks the user to enter again another word and applies the same rule as the first word (\"quit\" means to stop otherwise add to a list and continue). When the program end (when the user types \"quit\") the program should write the content of the list into a file where each word is in a spearate line."
   ]
  },
  {
   "cell_type": "code",
   "execution_count": 13,
   "metadata": {},
   "outputs": [
    {
     "name": "stdout",
     "output_type": "stream",
     "text": [
      "part 2-1\n"
     ]
    }
   ],
   "source": [
    "print(\"part 2-1\")\n",
    "n = int(input(\"Please enter a number: \"))\n",
    "f = open(\"part2-1.txt\", \"w\")\n",
    "for i in range(n+1):\n",
    "    f.write(f\"{i}\\n\")\n",
    "f.close()"
   ]
  },
  {
   "cell_type": "code",
   "execution_count": 16,
   "metadata": {},
   "outputs": [
    {
     "name": "stdout",
     "output_type": "stream",
     "text": [
      "part2-2\n"
     ]
    }
   ],
   "source": [
    "print(\"part2-2\")\n",
    "words = []\n",
    "while True:\n",
    "    word = input(\"Please enter a word: \")\n",
    "    if word == \"quit\":\n",
    "        # break means: exit the loop (like a but on loops)\n",
    "        break\n",
    "    else:\n",
    "        # or words.append(word + \"\\n\")\n",
    "        words.append(f\"{word}\\n\")\n",
    "f = open(\"part2-2.txt\", \"w\")\n",
    "f.writelines(words)\n",
    "f.close()"
   ]
  },
  {
   "cell_type": "code",
   "execution_count": null,
   "metadata": {},
   "outputs": [],
   "source": [
    "print(\"part2-2-method2\")\n",
    "words = []\n",
    "while True:\n",
    "    word = input(\"Please enter a word: \")\n",
    "    # != inequality operator\n",
    "    if word != \"quit\":\n",
    "        words.append(f\"{word}\\n\")\n",
    "    else:\n",
    "        break\n",
    "f = open(\"part2-2.txt\", \"w\")\n",
    "f.writelines(words)\n",
    "f.close()"
   ]
  },
  {
   "cell_type": "code",
   "execution_count": null,
   "metadata": {},
   "outputs": [
    {
     "name": "stdout",
     "output_type": "stream",
     "text": [
      "True True\n",
      "True False\n"
     ]
    }
   ],
   "source": [
    "# We can't use \"in\" for the exercise because, we quit when the user types exactly \"quit\"\n",
    "print(\"quit\" in \"quit\", \"quit\" == \"quit\")\n",
    "print(\"quit\" in \"XquitYIE\", \"quit\" == \"XquitYIE\")"
   ]
  },
  {
   "cell_type": "markdown",
   "metadata": {},
   "source": [
    "## Part 3\n",
    "\n",
    "Python can generate random numbers (they are pseudo-random to be more precise) like this:\n",
    "\n",
    "```python\n",
    "import random\n",
    "\n",
    "random_number = random.randint(1, 100)\n",
    "print(random_number)\n",
    "```\n",
    "\n",
    "1. Create a program that:\n",
    "    - Generates a random number between 1 and 100 and prints it\n",
    "    - After that it creates a file that contains the list of integers from 0 to the generated number.Each integer should be on a separate line.\n",
    "    - After that, it creates another file where all the numbers are on the same line but separated by a comma.\n",
    "1. Create a program that generates a random number between 1 and 20 and create a file that writes all numbers from 0 to the generated number in this format `[number] [True if the number is even of False otherwise]`. For example, if the generated number is 5 then the file should contain:\n",
    "    ```\n",
    "    0 True\n",
    "    1 False\n",
    "    2 True\n",
    "    3 False\n",
    "    4 True\n",
    "    5 False\n",
    "    ```\n",
    "1. Let's suppose we have this list of strings `[\"apple\", \"banana\", \"cherry\"]`. \n",
    "    - Create a file that contains 5 lines where each line is a random string from the list. For example:\n",
    "    ```\n",
    "    cherry\n",
    "    apple\n",
    "    apple\n",
    "    cherry\n",
    "    banana\n",
    "    apple\n",
    "    ```\n",
    "    - After the file is created, open the file in read mode and:\n",
    "        - Print the content of the file in reverse order.\n",
    "        - Print how many times each string appears in the file. For example:\n",
    "        ```\n",
    "        apple: 3\n",
    "        banana: 1\n",
    "        cherry: 2\n",
    "        ```\n",
    " "
   ]
  },
  {
   "cell_type": "code",
   "execution_count": null,
   "metadata": {},
   "outputs": [
    {
     "name": "stdout",
     "output_type": "stream",
     "text": [
      "97\n"
     ]
    }
   ],
   "source": [
    "# Question 1\n",
    "import random\n",
    "\n",
    "random_number = random.randint(1, 100)\n",
    "print(random_number)\n",
    "\n",
    "number_lines = []\n",
    "single_line_numbers = []\n",
    "for n in range(random_number):\n",
    "    number_lines.append(f\"{n}\\n\")\n",
    "    single_line_numbers.append(f\"{n}, \")\n",
    "    \n",
    "f = open(\"part3-1-1.txt\", \"w\")\n",
    "f.writelines(number_lines)\n",
    "f.close()\n",
    "\n",
    "f = open(\"part3-1-2.txt\", \"w\")\n",
    "f.writelines(single_line_numbers)\n",
    "f.close()"
   ]
  },
  {
   "cell_type": "code",
   "execution_count": 5,
   "metadata": {},
   "outputs": [
    {
     "name": "stdout",
     "output_type": "stream",
     "text": [
      "11\n"
     ]
    }
   ],
   "source": [
    "# Question 2\n",
    "import random\n",
    "\n",
    "random_number = random.randint(1, 20)\n",
    "print(random_number)\n",
    "\n",
    "lines = []\n",
    "for n in range(random_number):\n",
    "    lines.append(f\"{n} {n % 2 == 0}\\n\")\n",
    "    \n",
    "f = open(\"part3-2.txt\", \"w\")\n",
    "f.writelines(lines)\n",
    "f.close()"
   ]
  },
  {
   "cell_type": "markdown",
   "metadata": {},
   "source": [
    "## Part 4\n",
    "\n",
    "The split function can be used to split a string into a list of strings. For example:\n",
    "\n",
    "```python\n",
    "sentence = \"Hello, how are you?\"\n",
    "words = sentence.split()\n",
    "print(words) # will print [\"Hello,\", \"how\", \"are\", \"you?\"]\n",
    "```\n",
    "The strip method removes whites spaces and line breaks at the beginning and at then end\n",
    "\n",
    "```python\n",
    "print(\"   he llo \\n\\n\".strip()) # will print \"he llo\" (withtout the spaces and line breaks)\n",
    "```\n",
    "\n",
    "1. Create a program that reads a file that contains in each line a single-word first name and sigle-word last name separated by a space, and prints the full name in the terminal and in a another file. For example, if the file contains:\n",
    "    ```\n",
    "    John Doe\n",
    "    Jane Smith\n",
    "    ```\n",
    "    The program should print in the terminal and write in a file:\n",
    "    ```\n",
    "    First name: John. Last Name Doe\n",
    "    First name: Jane. Last Name Smith\n",
    "    ```\n",
    "1. Create a program that reads a file that contains in each line a first name followed by a space and then followed by a number. The program should print the avergae of the numbers and write it in a file. For example, if the file contains:\n",
    "    ```\n",
    "    John 10\n",
    "    Jane 20\n",
    "    ```\n",
    "    The program should print in the terminal and write in a file:\n",
    "    ```\n",
    "    Average 15\n",
    "    ``` "
   ]
  },
  {
   "cell_type": "code",
   "execution_count": 7,
   "metadata": {},
   "outputs": [
    {
     "name": "stdout",
     "output_type": "stream",
     "text": [
      "First name: John. Last Name Doe\n",
      "First name: Jane. Last Name Smith\n"
     ]
    }
   ],
   "source": [
    "# Question 1\n",
    "f = open(\"07-part4-1.txt\")\n",
    "lines = f.readlines()\n",
    "f.close()\n",
    "\n",
    "output_lines = []\n",
    "for line in lines:\n",
    "    parts = line.split(\" \")\n",
    "    s = f\"First name: {parts[0].strip()}. Last Name {parts[1].strip()}\"\n",
    "    print(s)\n",
    "    output_lines.append(f\"{s}\\n\")\n",
    "    \n",
    "f = open(\"07-part4-1-output.txt\", \"w\")\n",
    "f.writelines(output_lines)\n",
    "f.close()\n",
    "\n",
    "# Question 2\n",
    "f = open(\"07-part4-2.txt\")\n",
    "lines = f.readlines()\n",
    "f.close()\n",
    "\n",
    "sum = 0\n",
    "for line in lines:\n",
    "    parts = line.split(\" \")\n",
    "    grade = int(parts[1])\n",
    "    sum += grade\n",
    "\n",
    "average = sum / len(lines)\n",
    "output_lines = [ f\"average: {average}\" ]\n",
    "f = open(\"07-part4-2-output.txt\", \"w\")\n",
    "lines = f.writelines(output_lines)\n",
    "f.close()"
   ]
  }
 ],
 "metadata": {
  "kernelspec": {
   "display_name": "Python 3",
   "language": "python",
   "name": "python3"
  },
  "language_info": {
   "codemirror_mode": {
    "name": "ipython",
    "version": 3
   },
   "file_extension": ".py",
   "mimetype": "text/x-python",
   "name": "python",
   "nbconvert_exporter": "python",
   "pygments_lexer": "ipython3",
   "version": "3.12.8"
  }
 },
 "nbformat": 4,
 "nbformat_minor": 2
}
