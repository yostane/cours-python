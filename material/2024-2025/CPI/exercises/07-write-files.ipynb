{
 "cells": [
  {
   "cell_type": "markdown",
   "metadata": {},
   "source": [
    "# Exercises\n",
    "\n",
    "## Part 1\n",
    "1. Create a file that contains the list of integers from 0 to 10. Each integer should be on a separate line.\n",
    "1. Create a file that contains the list of odd integers from 0 to 10. Each integer should be on a separate line.\n",
    "1. Create a file that contains prime integers from 0 to 20. Each integer should be on a separate line."
   ]
  },
  {
   "cell_type": "markdown",
   "metadata": {},
   "source": [
    "## Part 2\n",
    "\n",
    "1. Create a program asks the user to enter a number, the program then creates a file that contains the list of integers from 0 to the entered number. Each integer should be on a separate line.\n",
    "1. Create a program that asks the user to enter a word, if the entered value is \"quit\" then the program should stop otherwise the program adds the word into a list and asks the user to enter again another word and applies the same rule as the first word (\"quit\" means to stop otherwise add to a list and continue). When the program end (when the user types \"quit\") the program should write the content of the list into a file where each word is in a spearate line."
   ]
  },
  {
   "cell_type": "markdown",
   "metadata": {},
   "source": [
    "## Part 3\n",
    "\n",
    "Python can generate random numbers (they are pseudo-random to be more precise) like this:\n",
    "\n",
    "```python\n",
    "import random\n",
    "\n",
    "random_number = random.randint(1, 100)\n",
    "print(random_number)\n",
    "```\n",
    "\n",
    "1. Create a program that generates a random number between 1 and 100 and prints it and creates a file that contains the list of integers from 0 to the generated number.\n",
    "    - Each integer should be on a separate line.\n",
    "    - Create another file where all the numbers are on the same line but separated by a comma.\n",
    "1. Create a program that generates a random number between 1 and 20 and create a file that writes all numbers from 0 to the generated number in this format `[number] [True if the number is even of False otherwise]`. For example, if the generated number is 5 then the file should contain:\n",
    "    ```\n",
    "    0 True\n",
    "    1 False\n",
    "    2 True\n",
    "    3 False\n",
    "    4 True\n",
    "    5 False\n",
    "    ```\n",
    "1. Let's suppose we have this list of strings `[\"apple\", \"banana\", \"cherry\"]`. \n",
    "    - Create a file that contains 4 lines where each line is a random string from the list. For example:\n",
    "    ```\n",
    "    cherry\n",
    "    apple\n",
    "    apple\n",
    "    cherry\n",
    "    ```\n",
    "    - After the file is created, open the file in read mode and:\n",
    "        - Print the content of the file in reverse order.\n",
    "        - Print how many times each string appears in the file. For example:\n",
    "        ```\n",
    "        apple: 2\n",
    "        banana: 0\n",
    "        cherry: 2\n",
    "        ```\n",
    " "
   ]
  },
  {
   "cell_type": "markdown",
   "metadata": {},
   "source": [
    "## Part 4\n",
    "\n",
    "The split function can be used to split a string into a list of strings. For example:\n",
    "\n",
    "```python\n",
    "sentence = \"Hello, how are you?\"\n",
    "words = sentence.split()\n",
    "print(words) # will print [\"Hello,\", \"how\", \"are\", \"you?\"]\n",
    "```\n",
    "\n",
    "1. Create a program that reads a file that contains in each line a single-word first name and sigle-word last name separated by a space, and prints the full name in the terminal and in a another. For example, if the file contains:\n",
    "    ```\n",
    "    John Doe\n",
    "    Jane Smith\n",
    "    ```\n",
    "    The program should print in the terminal and write in a file:\n",
    "    ```\n",
    "    First name: John. Last Name Doe\n",
    "    First name: Jane. Last Name Smith\n",
    "    ```\n",
    "1. Create a program that reads a file that contains in each line a first name followed by a space and then followed by a number. The program should print the avergae of the numbers and write it in a file. For example, if the file contains:\n",
    "    ```\n",
    "    John 10\n",
    "    Jane 20\n",
    "    ```\n",
    "    The program should print in the terminal and write in a file:\n",
    "    ```\n",
    "    Average 15\n",
    "    ``` "
   ]
  }
 ],
 "metadata": {
  "language_info": {
   "name": "python"
  }
 },
 "nbformat": 4,
 "nbformat_minor": 2
}
