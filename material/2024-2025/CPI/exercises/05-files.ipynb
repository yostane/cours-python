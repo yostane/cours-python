{
 "cells": [
  {
   "cell_type": "markdown",
   "metadata": {},
   "source": [
    "# Exercices on reading files\n",
    "\n",
    "Create a file \"exercise.txt\" with the following content:\n",
    "\n",
    "```txt\n",
    "Teacher: Hi, how are you?\n",
    "Student: I'm fine thanks\n",
    "Teacher: Do you love Python?\n",
    "Student: Yes! I love it better than anything.\n",
    "Teacher: Excellent! You are a good student. \n",
    "```"
   ]
  }
 ],
 "metadata": {
  "language_info": {
   "name": "python"
  }
 },
 "nbformat": 4,
 "nbformat_minor": 2
}
