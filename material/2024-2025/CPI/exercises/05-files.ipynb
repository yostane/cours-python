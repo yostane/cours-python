{
 "cells": [
  {
   "cell_type": "markdown",
   "metadata": {},
   "source": [
    "# Exercices on reading files\n",
    "\n",
    "## Exercise 1\n",
    "\n",
    "Create a file \"exercise.txt\" with the following content:\n",
    "\n",
    "```\n",
    "Teacher: Hi, how are you?\n",
    "Student: I'm fine thanks.\n",
    "Teacher: Do you love Python?\n",
    "Student: Yes! I love it better than anything.\n",
    "Teacher: Excellent! You are a good student. \n",
    "```\n",
    "\n",
    "### Part 1\n",
    "\n",
    "Solve these questions in Python:\n",
    "\n",
    "1. How many line are there in the file?\n",
    "1. How many characters are there in each line?\n",
    "1. How many characters are there in total?\n",
    "1. What is the longest line?\n",
    "1. How many questions are there?\n",
    "1. How many exclamations are there?\n",
    "1. How many times did the teacher speak?\n",
    "1. How many times did the student speak?"
   ]
  },
  {
   "cell_type": "code",
   "execution_count": 2,
   "metadata": {},
   "outputs": [
    {
     "name": "stdout",
     "output_type": "stream",
     "text": [
      "Q1 to Q3\n",
      "Q1- 5\n",
      "Q2- Line 0 has 26 characters\n",
      "Q2- Line 1 has 26 characters\n",
      "Q2- Line 2 has 29 characters\n",
      "Q2- Line 3 has 46 characters\n",
      "Q2- Line 4 has 43 characters\n",
      "Q3- 170\n"
     ]
    }
   ],
   "source": [
    "print(\"Q1 to Q3\")\n",
    "f = open(\"exercise.txt\")\n",
    "lines = f.readlines()\n",
    "f.close()\n",
    "print(\"Q1-\", len(lines))\n",
    "total = 0\n",
    "for i in range(len(lines)):\n",
    "  count = len(lines[i])\n",
    "  print(\"Q2- Line\", i, \"has\", count, \"characters\")\n",
    "  total = total + count\n",
    "print(\"Q3-\", total)"
   ]
  },
  {
   "cell_type": "code",
   "execution_count": null,
   "metadata": {},
   "outputs": [
    {
     "name": "stdout",
     "output_type": "stream",
     "text": [
      "Longest line\n",
      "Q4- The longest line is line: 3 with 46 characters\n"
     ]
    }
   ],
   "source": [
    "print(\"Q4- Longest line\")\n",
    "longest_line_count = 0\n",
    "longest_line_index = 0\n",
    "for i in range(len(lines)):\n",
    "  count = len(lines[i])\n",
    "  if count > longest_line_count:\n",
    "    longest_line_count = count\n",
    "    longest_line_index = i\n",
    "print(\"Q4- The longest line is line:\", longest_line_index, \"with\", longest_line_count, \"characters\")"
   ]
  },
  {
   "cell_type": "code",
   "execution_count": 3,
   "metadata": {},
   "outputs": [
    {
     "name": "stdout",
     "output_type": "stream",
     "text": [
      "Q5 to Q8\n",
      "Q5- 2\n",
      "Q6- 2\n",
      "Q7- 3\n",
      "Q8- 2\n"
     ]
    }
   ],
   "source": [
    "print(\"Q5 to Q8\")\n",
    "question_count = 0\n",
    "exclamation_count = 0\n",
    "teacher_count = 0\n",
    "student_count = 0\n",
    "for line in lines:\n",
    "    if \"?\" in line:\n",
    "        question_count += 1\n",
    "    if \"!\" in line:\n",
    "        exclamation_count += 1\n",
    "    if line[0:8] == \"Teacher:\":\n",
    "        teacher_count += 1\n",
    "    if line[0:8] == \"Student:\":\n",
    "        student_count += 1\n",
    "print(\"Q5-\", question_count)\n",
    "print(\"Q6-\", exclamation_count)\n",
    "print(\"Q7-\", teacher_count)\n",
    "print(\"Q8-\", student_count)"
   ]
  },
  {
   "cell_type": "markdown",
   "metadata": {},
   "source": [
    "### Part 2\n",
    "\n",
    "Make sure that your program of part 1 works on any file. For example:\n",
    "\n",
    "```\n",
    "Tintin: Where is Milou?\n",
    "Student: Ask the teacher.\n",
    "Teacher: He has been kidnapped or rather dognapped.\n",
    "Student: omg.\n",
    "Tintin: omg.\n",
    "Hadock: Thunder of Britanny.\n",
    "``` "
   ]
  },
  {
   "cell_type": "markdown",
   "metadata": {},
   "source": [
    "## Exercise 2\n",
    "\n",
    "Create a file called grades.txt with the following content:\n",
    "\n",
    "```\n",
    "10\n",
    "20\n",
    "15\n",
    "7\n",
    "12\n",
    "5\n",
    "11\n",
    "```\n",
    "\n",
    "Solve these questions in Python:\n",
    "\n",
    "1. How many grades are there?\n",
    "1. What is the average grade?\n",
    "1. What is the highest grade?\n",
    "1. What is the lowest grade?"
   ]
  },
  {
   "cell_type": "markdown",
   "metadata": {},
   "source": [
    "## Exercise 3\n",
    "\n",
    "Create a file called stories.txt that contains a small story in each line (each line is a different story).\n",
    "Here is its content:\n",
    "\n",
    "```\n",
    "This is a story of a Python programmer. The programmer wrote a program that printed \"Hello World!\" on the screen. The programmer was happy. The end.\n",
    "Once upon a time, there was a Python snake. The snake did an infinite loop and ate its own tail. The snake was not happy. The end.\n",
    "There was a Student who loved Python. The Student wrote a program that printed \"I love Python!\" on the screen. The Student was happy. The end.\n",
    "There was happy cloud that poured rain on the earth. The earth was happy. The end.\n",
    "```\n",
    "\n",
    "Solve these questions in Python:\n",
    "\n",
    "1. How many word are there in the file? (Hint: use the `split()` method)\n",
    "1. Which story has most words?\n",
    "1. Which story has least words? \n",
    "1. Which stories has most characters?\n",
    "1. Which stories has least characters?\n",
    "1. How many times does the word \"Python\" appear in the file?\n",
    "1. How many stories have the word Python in it?"
   ]
  },
  {
   "cell_type": "code",
   "execution_count": null,
   "metadata": {},
   "outputs": [
    {
     "name": "stdout",
     "output_type": "stream",
     "text": [
      "Teacher: Hi, how are you?\n",
      "\n",
      "Student: I'm fine thanks.\n",
      "\n",
      "Teacher: Do you love Python?\n",
      "\n",
      "Student: Yes! I love it better than anything.\n",
      "\n",
      "Teacher: Excellent! You are a good student.\n",
      "0\n",
      "1\n",
      "2\n",
      "3\n",
      "4\n"
     ]
    }
   ],
   "source": [
    "# some explanatios (not part of the exercise)\n",
    "# Iterate over each line\n",
    "for line in lines:\n",
    "    print(line)\n",
    "\n",
    "# Iterate over the indices\n",
    "for i in range(len(lines)):\n",
    "    print(i)"
   ]
  }
 ],
 "metadata": {
  "kernelspec": {
   "display_name": "Python 3",
   "language": "python",
   "name": "python3"
  },
  "language_info": {
   "codemirror_mode": {
    "name": "ipython",
    "version": 3
   },
   "file_extension": ".py",
   "mimetype": "text/x-python",
   "name": "python",
   "nbconvert_exporter": "python",
   "pygments_lexer": "ipython3",
   "version": "3.13.0"
  }
 },
 "nbformat": 4,
 "nbformat_minor": 2
}
