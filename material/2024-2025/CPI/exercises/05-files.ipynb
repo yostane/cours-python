{
 "cells": [
  {
   "cell_type": "markdown",
   "metadata": {},
   "source": [
    "# Exercices on reading files\n",
    "\n",
    "Create a file \"exercise.txt\" with the following content:\n",
    "\n",
    "```\n",
    "Teacher: Hi, how are you?\n",
    "Student: I'm fine thanks.\n",
    "Teacher: Do you love Python?\n",
    "Student: Yes! I love it better than anything.\n",
    "Teacher: Excellent! You are a good student. \n",
    "```\n",
    "\n",
    "## Questions\n",
    "\n",
    "Solve these questions in Python:\n",
    "\n",
    "1. How many line are there in the file?\n",
    "1. How many characters are there in each line?\n",
    "1. How many characters are there in total?\n",
    "1. What is the longest line?\n",
    "1. How many questions are there?\n",
    "1. How many exclamations are there?\n",
    "1. How many times did the teacher speak?\n",
    "1. How many times did the student speak?"
   ]
  },
  {
   "cell_type": "code",
   "execution_count": null,
   "metadata": {},
   "outputs": [
    {
     "name": "stdout",
     "output_type": "stream",
     "text": [
      "Q1 to Q3\n",
      "Q1- 5\n",
      "Q2- Line 0 has 26 characters\n",
      "Q2- Line 1 has 26 characters\n",
      "Q2- Line 2 has 29 characters\n",
      "Q2- Line 3 has 46 characters\n",
      "Q2- Line 4 has 43 characters\n",
      "Q3- 170\n"
     ]
    }
   ],
   "source": [
    "print(\"Q1 to Q3\")\n",
    "f = open(\"exercise.txt\")\n",
    "lines = f.readlines()\n",
    "f.close()\n",
    "print(\"Q1-\", len(lines))\n",
    "total = 0\n",
    "for i in range(len(lines)):\n",
    "  count = len(lines[i])\n",
    "  print(\"Q2- Line\", i, \"has\", count, \"characters\")\n",
    "  total = total + count\n",
    "print(\"Q3-\", total)"
   ]
  },
  {
   "cell_type": "code",
   "execution_count": null,
   "metadata": {},
   "outputs": [
    {
     "name": "stdout",
     "output_type": "stream",
     "text": [
      "Longest line\n",
      "Q4- The longest line is line: 3\n"
     ]
    }
   ],
   "source": [
    "print(\"Longest line\")\n",
    "longest_line_count = 0\n",
    "longest_line_index = 0\n",
    "for i in range(len(lines)):\n",
    "  count = len(lines[i])\n",
    "  if count > longest_line_count:\n",
    "    longest_line_count = count\n",
    "    longest_line_index = i\n",
    "print(\"Q4- The longest line is line:\", longest_line_index, \"with\", longest_line_count, \"characters\")"
   ]
  },
  {
   "cell_type": "code",
   "execution_count": null,
   "metadata": {},
   "outputs": [
    {
     "name": "stdout",
     "output_type": "stream",
     "text": [
      "Teacher: Hi, how are you?\n",
      "\n",
      "Student: I'm fine thanks.\n",
      "\n",
      "Teacher: Do you love Python?\n",
      "\n",
      "Student: Yes! I love it better than anything.\n",
      "\n",
      "Teacher: Excellent! You are a good student.\n",
      "0\n",
      "1\n",
      "2\n",
      "3\n",
      "4\n"
     ]
    }
   ],
   "source": [
    "# some explanatios (not part of the exercise)\n",
    "# Iterate over each line\n",
    "for line in lines:\n",
    "    print(line)\n",
    "\n",
    "# Iterate over the indices\n",
    "for i in range(len(lines)):\n",
    "    print(i)"
   ]
  }
 ],
 "metadata": {
  "kernelspec": {
   "display_name": "Python 3",
   "language": "python",
   "name": "python3"
  },
  "language_info": {
   "codemirror_mode": {
    "name": "ipython",
    "version": 3
   },
   "file_extension": ".py",
   "mimetype": "text/x-python",
   "name": "python",
   "nbconvert_exporter": "python",
   "pygments_lexer": "ipython3",
   "version": "3.13.0"
  }
 },
 "nbformat": 4,
 "nbformat_minor": 2
}
