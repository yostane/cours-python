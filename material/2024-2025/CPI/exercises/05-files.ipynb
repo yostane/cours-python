{
 "cells": [
  {
   "cell_type": "markdown",
   "metadata": {},
   "source": [
    "# Exercices on reading files\n",
    "\n",
    "Create a file \"exercise.txt\" with the following content:\n",
    "\n",
    "```txt\n",
    "Teacher: Hi, how are you?\n",
    "Student: I'm fine thanks.\n",
    "Teacher: Do you love Python?\n",
    "Student: Yes! I love it better than anything.\n",
    "Teacher: Excellent! You are a good student. \n",
    "```\n",
    "\n",
    "## Questions\n",
    "\n",
    "Solve these questions in Python:\n",
    "\n",
    "1. How many line are there in the file?\n",
    "1. How many characters are there in each line?\n",
    "1. How many characters are there in total?\n",
    "1. What is the longest line?\n",
    "1. How many questions are there?\n",
    "1. How many exclamations are there?\n",
    "1. How many times did the teacher speak?\n",
    "1. How many times did the student speak?"
   ]
  },
  {
   "cell_type": "code",
   "execution_count": null,
   "metadata": {
    "vscode": {
     "languageId": "plaintext"
    }
   },
   "outputs": [],
   "source": []
  }
 ],
 "metadata": {
  "language_info": {
   "name": "python"
  }
 },
 "nbformat": 4,
 "nbformat_minor": 2
}
