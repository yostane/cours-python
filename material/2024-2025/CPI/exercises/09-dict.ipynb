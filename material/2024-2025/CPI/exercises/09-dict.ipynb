{
 "cells": [
  {
   "cell_type": "markdown",
   "metadata": {},
   "source": [
    "# Dictionnaries\n",
    "\n",
    "A dictionnary in Python allows to store key-value pairs. It is a very useful data structure that can be used in many situations. In this notebook, we will see how to create, modify and access dictionnaries."
   ]
  },
  {
   "cell_type": "code",
   "execution_count": null,
   "metadata": {},
   "outputs": [
    {
     "name": "stdout",
     "output_type": "stream",
     "text": [
      "{'name': 'Toto', 'isSick': False, 'money': 200}\n",
      "Toto Toto\n",
      "Tutu\n",
      "Tonton {'name': 'Tutu', 'isSick': False, 'money': 200, 'friend_name': 'Tonton'}\n",
      "{'name': 'Tutu', 'isSick': False, 'money': 200}\n"
     ]
    }
   ],
   "source": [
    "# Create a dictionnary\n",
    "person = {\"name\": \"Toto\", \"isSick\": False, \"money\": 200}\n",
    "print(person)\n",
    "# Access a value of a key\n",
    "n = person[\"name\"]\n",
    "print(n, person[\"name\"])\n",
    "if person[\"isSick\"]:\n",
    "    print(person[\"name\"], \"is sick\")\n",
    "# Modify entries\n",
    "person[\"name\"] = \"Tutu\"\n",
    "print(person[\"name\"])\n",
    "# Add entries\n",
    "person[\"friend_name\"] = \"Tonton\"\n",
    "print(person[\"friend_name\"], person)\n",
    "# Remove an entry\n",
    "del person[\"friend_name\"]\n",
    "print(person)"
   ]
  },
  {
   "cell_type": "markdown",
   "metadata": {},
   "source": [
    "## Exercise 1\n",
    "\n",
    "1. Create a dictionnary `person` with the following key-value pairs: \"name\": \"Tata\", \"age\": 30, \"city\": \"Tokyo\"\n",
    "    - print the value associated with the key \"name\"\n",
    "    - Add a new key-value pair \"country\": \"Japan\" to `person`\n",
    "1. Create another dictionnary `person2` with the following key-value pairs: \"name\": \"Toto\", \"age\": 25, \"city\": \"Paris\"\n",
    "    - Print the smallest age between `person` and `person2`\n",
    "1. Create a list of dictionnaries `persons` containing `person` and `person2`\n",
    "    - print `persons[0][\"name\"]` and `persons[1][\"name\"]`\n",
    "    - Add a new dictionary to `persons` with the following key-value pairs: \"name\": \"Titi\", \"age\": 35, \"city\": \"New York\" \n",
    "    - Using a for loop, print the name of each person in `persons`\n",
    "1. Create a function that takes an int argument and creates a list of dictionnaries with the following key-value pairs: \"name\": \"name_i\", \"age\": i, \"city\": \"city_i\" where i is an integer between 0 and the argument value\n",
    "    - Call the function with an argument of 5 and store the result in a variable `persons2`"
   ]
  },
  {
   "cell_type": "code",
   "execution_count": 3,
   "metadata": {},
   "outputs": [
    {
     "name": "stdout",
     "output_type": "stream",
     "text": [
      "25\n",
      "25\n",
      "Tata\n",
      "Toto\n",
      "Titi\n",
      "[{'name': 'name_0', 'age': 0, 'city': 'city_0'}, {'name': 'name_1', 'age': 1, 'city': 'city_1'}, {'name': 'name_2', 'age': 2, 'city': 'city_2'}, {'name': 'name_3', 'age': 3, 'city': 'city_3'}, {'name': 'name_4', 'age': 4, 'city': 'city_4'}]\n"
     ]
    }
   ],
   "source": [
    "#Q1\n",
    "person = { \"name\": \"Tata\", \"age\": 30, \"city\": \"Tokyo\" }\n",
    "person[\"country\"] = \"Japan\"\n",
    "\n",
    "# Q2\n",
    "person2 = { \"name\": \"Toto\", \"age\": 25, \"city\": \"Paris\" }\n",
    "print(person[\"age\"] if person[\"age\"] < person2[\"age\"] else person2[\"age\"])\n",
    "# or like this\n",
    "if person[\"age\"] < person2[\"age\"]:\n",
    "    print(person[\"age\"])\n",
    "else:\n",
    "    print(person2[\"age\"])\n",
    "    \n",
    "#Q3\n",
    "persons = [person, person2]\n",
    "persons.append({\"name\": \"Titi\", \"age\": 35, \"city\": \"New York\"})\n",
    "for p in persons:\n",
    "    print(p[\"name\"])\n",
    "\n",
    "#Q4\n",
    "def create_persons(n):\n",
    "    created_persons = []\n",
    "    for i in range(n):\n",
    "        created_persons.append({ \"name\": f\"name_{i}\", \"age\": i, \"city\": f\"city_{i}\" })\n",
    "    return created_persons\n",
    "\n",
    "persons2 = create_persons(5)\n",
    "print(persons2)"
   ]
  },
  {
   "cell_type": "markdown",
   "metadata": {},
   "source": [
    "## Exercise 2\n",
    "\n",
    "1. Create a dictionnary `todo1` with the following key-value pairs: `\"title\": \"Buy groceries\", \"is_completed\": False`. Create another dictionnary `todo2` with the following key-value pairs: `\"title\": \"Clean the house\", \"is_completed\": True`\n",
    "    - Put todo1 and todo2 in a list `todos`\n",
    "    - Using a for loop, print the completed todos\n",
    "    - Add a new todo to `todos`: `{ \"title\": \"Go to the gym\", \"is_completed\": False }`\n",
    "    - Using a for loop, print the title of completed todos\n",
    "1. Create a function that takes a todo dictionnary and prints its values seprarated by a comma. For example for the todo1 dictionnary, the function should print: \"Buy groceries, False\"\n",
    "    - Call the function with todo1 and todo2\n",
    "1. Create a function that takes a string that contains values of a todo separated by a comma and returns a dictionnary. For example, for the string \"Buy groceries, False\", the function should return: `{ \"title\": \"Buy groceries\", \"is_completed\": False }`\n",
    "    - Call the function with the string \"Clean the house, True\"\n",
    "1. Using the previous questions, create a function that takes a list of todos and stores it in a file called \"todos.txt\". Each todo should be stored in a new line.\n",
    "    - Call the function with the `todos` list\n",
    "1. Using the previous questions, Create a function that reads the \"todos.txt\" file and returns the list of todos.\n",
    "    - Call the function and store the result in a variable `todos2`\n",
    "    - Print `todos2` and check if it is equal to `todos`"
   ]
  },
  {
   "cell_type": "code",
   "execution_count": 13,
   "metadata": {},
   "outputs": [
    {
     "name": "stdout",
     "output_type": "stream",
     "text": [
      "completed todos\n",
      "{'title': 'Clean the house', 'is_completed': True}\n",
      "Titles of completed todos\n",
      "Clean the house\n",
      "{'title': 'Buy groceries', 'is_completed': True}\n",
      "todos [{'title': 'Buy groceries', 'is_completed': False}, {'title': 'Clean the house', 'is_completed': True}, {'title': 'Go to the gym', 'is_completed': False}]\n",
      "loaded todos [{'title': 'Buy groceries', 'is_completed': True}, {'title': 'Clean the house', 'is_completed': True}, {'title': 'Go to the gym', 'is_completed': True}]\n"
     ]
    }
   ],
   "source": [
    "#Q1\n",
    "todo1 = { \"title\": \"Buy groceries\", \"is_completed\": False }\n",
    "todo2 = { \"title\": \"Clean the house\", \"is_completed\": True }\n",
    "todos = [todo1, todo2]\n",
    "print(\"completed todos\")\n",
    "for todo in todos:\n",
    "    if todo[\"is_completed\"]:\n",
    "        print(todo)\n",
    "        \n",
    "todos.append({ \"title\": \"Go to the gym\", \"is_completed\": False })\n",
    "print(\"Titles of completed todos\")\n",
    "for todo in todos:\n",
    "    if todo[\"is_completed\"]:\n",
    "        print(todo[\"title\"])\n",
    "\n",
    "#Q2\n",
    "def create_todo_from_string(s):\n",
    "    parts = s.split(\",\")\n",
    "    return {\"title\": parts[0], \"is_completed\": bool(parts[1])}\n",
    "\n",
    "print(create_todo_from_string(\"Buy groceries, False\"))\n",
    "\n",
    "#Q3\n",
    "def save_todos(todos_to_save):\n",
    "    lines = []\n",
    "    for todo in todos_to_save:\n",
    "        lines.append(f\"{todo[\"title\"]}, {todo[\"is_completed\"]}\\n\")\n",
    "    f = open(\"todos.txt\", \"w\")\n",
    "    f.writelines(lines)\n",
    "    f.close()\n",
    "\n",
    "save_todos(todos)\n",
    "\n",
    "#Q4\n",
    "def load_todos(file_name):\n",
    "    f = open(file_name)\n",
    "    lines = f.readlines()\n",
    "    f.close()\n",
    "    loaded_todos = []\n",
    "    for line in lines:\n",
    "        loaded_todos.append(create_todo_from_string(line))\n",
    "    return loaded_todos\n",
    "\n",
    "todos2 = load_todos(\"todos.txt\")\n",
    "\n",
    "print(\"todos\", todos)\n",
    "print(\"loaded todos\", todos2)"
   ]
  }
 ],
 "metadata": {
  "kernelspec": {
   "display_name": "Python 3",
   "language": "python",
   "name": "python3"
  },
  "language_info": {
   "codemirror_mode": {
    "name": "ipython",
    "version": 3
   },
   "file_extension": ".py",
   "mimetype": "text/x-python",
   "name": "python",
   "nbconvert_exporter": "python",
   "pygments_lexer": "ipython3",
   "version": "3.12.8"
  }
 },
 "nbformat": 4,
 "nbformat_minor": 2
}
