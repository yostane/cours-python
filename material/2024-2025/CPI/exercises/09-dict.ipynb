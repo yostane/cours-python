{
 "cells": [
  {
   "cell_type": "markdown",
   "metadata": {},
   "source": [
    "# Dictionnaries\n",
    "\n",
    "A dictionnary in Python allows to store key-value pairs. It is a very useful data structure that can be used in many situations. In this notebook, we will see how to create, modify and access dictionnaries."
   ]
  },
  {
   "cell_type": "code",
   "execution_count": null,
   "metadata": {},
   "outputs": [
    {
     "name": "stdout",
     "output_type": "stream",
     "text": [
      "{'name': 'Toto', 'isSick': False, 'money': 200}\n",
      "Toto Toto\n",
      "Tutu\n",
      "Tonton {'name': 'Tutu', 'isSick': False, 'money': 200, 'friend_name': 'Tonton'}\n",
      "{'name': 'Tutu', 'isSick': False, 'money': 200}\n"
     ]
    }
   ],
   "source": [
    "# Create a dictionnary\n",
    "person = {\"name\": \"Toto\", \"isSick\": False, \"money\": 200}\n",
    "print(person)\n",
    "# Access a value of a key\n",
    "n = person[\"name\"]\n",
    "print(n, person[\"name\"])\n",
    "if person[\"isSick\"]:\n",
    "    print(person[\"name\"], \"is sick\")\n",
    "# Modify entries\n",
    "person[\"name\"] = \"Tutu\"\n",
    "print(person[\"name\"])\n",
    "# Add entries\n",
    "person[\"friend_name\"] = \"Tonton\"\n",
    "print(person[\"friend_name\"], person)\n",
    "# Remove an entry\n",
    "del person[\"friend_name\"]\n",
    "print(person)"
   ]
  },
  {
   "cell_type": "markdown",
   "metadata": {},
   "source": [
    "## Exercise 1\n",
    "\n",
    "1. Create a dictionnary `person` with the following key-value pairs: \"name\": \"Tata\", \"age\": 30, \"city\": \"Tokyo\"\n",
    "    - print the value associated with the key \"name\"\n",
    "    - Add a new key-value pair \"country\": \"Japan\" to `person`\n",
    "1. Create another dictionnary `person2` with the following key-value pairs: \"name\": \"Toto\", \"age\": 25, \"city\": \"Paris\"\n",
    "    - Print the smallestage between `my_dict` and `person2`\n",
    "1. Create a list of dictionnaries `persons` containing `person` and `person2`\n",
    "    - print `persons[0][\"name\"]` and `persons[1][\"name\"]`\n",
    "    - Add a new dictionary to `persons` with the following key-value pairs: \"name\": \"Titi\", \"age\": 35, \"city\": \"New York\" \n",
    "    - Using a for loop, print the name of each person in `persons`\n",
    "1. Create a function that takes an int argument and creates a list of dictionnaries with the following key-value pairs: \"name\": \"name_i\", \"age\": i, \"city\": \"city_i\" where i is an integer between 0 and the argument value\n",
    "    - Call the function with an argument of 5 and store the result in a variable `persons2`"
   ]
  },
  {
   "cell_type": "markdown",
   "metadata": {},
   "source": [
    "## Exercise 2\n",
    "\n",
    "1. Create a dictionnary `todo1` with the following key-value pairs: `\"title\": \"Buy groceries\", \"is_completed\": False`. Create another dictionnary `todo2` with the following key-value pairs: `\"title\": \"Clean the house\", \"is_completed\": True`\n",
    "    - Put todo1 and todo2 in a list `todos`\n",
    "    - Using a for loop, print the completed todos\n",
    "    - Add a new todo to `todos`: `{ \"title\": \"Go to the gym\", \"is_completed\": False }`\n",
    "    - Using a for loop, print the title of completed todos"
   ]
  }
 ],
 "metadata": {
  "kernelspec": {
   "display_name": "Python 3",
   "language": "python",
   "name": "python3"
  },
  "language_info": {
   "codemirror_mode": {
    "name": "ipython",
    "version": 3
   },
   "file_extension": ".py",
   "mimetype": "text/x-python",
   "name": "python",
   "nbconvert_exporter": "python",
   "pygments_lexer": "ipython3",
   "version": "3.12.7"
  }
 },
 "nbformat": 4,
 "nbformat_minor": 2
}
