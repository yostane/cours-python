{
 "cells": [
  {
   "cell_type": "markdown",
   "metadata": {},
   "source": [
    "# Miscellaneous Exercises\n",
    "\n",
    "## Part 1\n",
    "\n",
    "1. Write a function that takes integer that represents a temperature in Celsius and returns the temperature in Fahrenheit. The formula is: `Fahrenheit = (Celsius * 1.8) + 32`\n",
    "    - Example: `celsius_to_fahrenheit(0)` -> 32\n",
    "    - Call this function on the following list of temperatures: `[0, 32, 100, 212]`\n",
    "1. Write a function that takes integer that represents a temperature in Fahrenheit and returns the temperature in Celsius.\n",
    "    - Example: `fahrenheit_to_celsius(32) -> 0`\n",
    "    - Verify that the function is correct by calling it on the fahrenheit temperatures computed from the previous exercise.\n",
    "1. Write a function that takes a integer `weight`, a string `unit` and a string `output_unit`. The function should convert the weight from the input unit to the output unit. The function should support the following units: `kg`, `g`, `lb`, `oz`. The formula is:\n",
    "    - `1 kg = 1000 g`\n",
    "    - `1 kg = 2.20462 lb`\n",
    "    - `1 lb = 16 oz`\n",
    "    - Example: `convert_weight(1, 'kg', 'g')` -> 1000\n",
    "    - Call this function on the following list of weights and units: `[(0.5, 'kg', 'g'), (200, 'g', 'kg'), (1.9, 'lb', 'oz'), (5, 'oz', 'lb')]`"
   ]
  },
  {
   "cell_type": "code",
   "execution_count": 6,
   "metadata": {},
   "outputs": [
    {
     "name": "stdout",
     "output_type": "stream",
     "text": [
      "32.0\n",
      "89.6\n",
      "212.0\n",
      "413.6\n",
      "0.0\n",
      "31.999999999999996\n",
      "100.0\n",
      "212.0\n",
      "1kg to oz 35.27392\n",
      "1kg to lb 2.20462\n",
      "1kg to g 1000\n",
      "1lb to oz 16\n",
      "1oz to kg 0.028349556839727483\n",
      "1 lb to kg 0.45359290943563974\n",
      "1g to kg 0.001\n",
      "1oz to lb 0.0625\n"
     ]
    }
   ],
   "source": [
    "#Q1\n",
    "def celsius_to_fahrenheit(c):\n",
    "    return c * 1.8 + 32\n",
    "f_temperatures = []\n",
    "for c in [0, 32, 100, 212]:\n",
    "    f = celsius_to_fahrenheit(c)\n",
    "    f_temperatures.append(f)\n",
    "    print(f)\n",
    "    \n",
    "#Q2\n",
    "def fahrenheit_to_celsius(f):\n",
    "    return (f - 32) / 1.8\n",
    "\n",
    "for f in f_temperatures:\n",
    "    print(fahrenheit_to_celsius(f))\n",
    "    \n",
    "#Q3\n",
    "def convert_kg(weight, output_unit):\n",
    "    if output_unit == \"kg\":\n",
    "        return weight\n",
    "    if output_unit == \"g\":\n",
    "        return weight * 1000\n",
    "    if output_unit == \"lb\":\n",
    "        return weight * 2.20462\n",
    "    if output_unit == \"oz\":\n",
    "        return weight * 16 * 2.20462\n",
    "    print(\"Cannot understand output unit\")\n",
    "        \n",
    "def convert_lb(weight, output_unit):\n",
    "    if output_unit == \"kg\":\n",
    "        return weight / 2.20462\n",
    "    if output_unit == \"g\":\n",
    "        return (weight / 2.20462) * 1000\n",
    "    if output_unit == \"lb\":\n",
    "        return weight\n",
    "    if output_unit == \"oz\":\n",
    "        return weight * 16\n",
    "    print(\"Cannot understand output unit\")\n",
    "\n",
    "def convert_oz(weight, output_unit):\n",
    "    if output_unit == \"kg\":\n",
    "        return weight / (2.20462 * 16)\n",
    "    if output_unit == \"g\":\n",
    "        return (weight / (2.20462 * 16)) / 1000\n",
    "    if output_unit == \"lb\":\n",
    "        return weight / 16\n",
    "    if output_unit == \"oz\":\n",
    "        return weight\n",
    "    print(\"Cannot understand output unit\")\n",
    "\n",
    "def convert_weight(weight, unit, output_unit):\n",
    "    if unit == \"kg\":\n",
    "        return convert_kg(weight, output_unit)\n",
    "    if unit == \"g\":\n",
    "        return convert_kg(weight / 1000, output_unit)\n",
    "    if unit == \"lb\":\n",
    "        return convert_lb(weight, output_unit)\n",
    "    if unit == \"oz\":\n",
    "        return convert_oz(weight, output_unit)\n",
    "    print(\"Cannot understand unit\")\n",
    "    \n",
    "print(\"1kg to oz\", convert_weight(1, \"kg\", \"oz\"))\n",
    "print(\"1kg to lb\", convert_weight(1, \"kg\", \"lb\"))\n",
    "print(\"1kg to g\", convert_weight(1, \"kg\", \"g\"))\n",
    "print(\"1lb to oz\", convert_weight(1, \"lb\", \"oz\"))\n",
    "print(\"1oz to kg\", convert_weight(1, \"oz\", \"kg\"))\n",
    "print(\"1 lb to kg\", convert_weight(1, \"lb\", \"kg\"))\n",
    "print(\"1g to kg\", convert_weight(1, \"g\", \"kg\"))\n",
    "print(\"1oz to lb\", convert_weight(1, \"oz\", \"lb\"))"
   ]
  },
  {
   "cell_type": "markdown",
   "metadata": {},
   "source": [
    "## Part 2\n",
    "\n",
    "1. Write a function that takes two lists of integers as arguments and returns the list of integers that are common to both lists.\n",
    "    - Example: `common_elements([1, 2, 3], [2, 3, 4])` -> [2, 3]\n",
    "1. Write a function that takes a list of integers as argument and returns the list of integers appear only once.\n",
    "    - Example: `unique_elements([1, 2, 3, 2, 3, 4])` -> [1, 4]"
   ]
  }
 ],
 "metadata": {
  "kernelspec": {
   "display_name": "Python 3",
   "language": "python",
   "name": "python3"
  },
  "language_info": {
   "codemirror_mode": {
    "name": "ipython",
    "version": 3
   },
   "file_extension": ".py",
   "mimetype": "text/x-python",
   "name": "python",
   "nbconvert_exporter": "python",
   "pygments_lexer": "ipython3",
   "version": "3.12.8"
  }
 },
 "nbformat": 4,
 "nbformat_minor": 2
}
