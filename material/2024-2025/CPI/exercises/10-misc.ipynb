{
 "cells": [
  {
   "cell_type": "markdown",
   "metadata": {},
   "source": [
    "# Miscelancious Exercises\n",
    "\n",
    "## Part 1\n",
    "\n",
    "1. Write a function that takes integer that represents a temperature in Fahrenheit and returns the temperature in Celsius. The formula is: `Fahrenheit = (Celsius * 1.8) + 32`\n",
    "    - Example: `celsius_to_fahrenheit(0)` -> 32\n",
    "    - Call this function on the following list of temperatures: `[0, 32, 100, 212]`\n",
    "1. Write a function that takes integer that represents a temperature in Celsius and returns the temperature in Farhenheit.\n",
    "    - Example: fahrenheit_to_celsius(32) -> 0\n",
    "1. Write a function that takes a integer `weight`, a string `unit` and a string `output_unit`. The function should convert the weight from the input unit to the output unit. The function should support the following units: `kg`, `g`, `lb`, `oz`. The formula is:\n",
    "    - `1 kg = 1000 g`\n",
    "    - `1 kg = 2.20462 lb`\n",
    "    - `1 lb = 16 oz`\n",
    "    - Example: `convert_weight(1, 'kg', 'g')` -> 1000\n",
    "    - Call this function on the following list of weights and units: `[(0.5, 'kg', 'g'), (200, 'g', 'kg'), (1.9, 'lb', 'oz'), (5, 'oz', 'lb')]`"
   ]
  },
  {
   "cell_type": "markdown",
   "metadata": {},
   "source": [
    "## Part 2\n",
    "\n",
    "1. Write a function that takes two lists of integers as arguments and returns the list of integers that are common to both lists.\n",
    "    - Example: `common_elements([1, 2, 3], [2, 3, 4])` -> [2, 3]\n",
    "1. Write a function that takes a list of integers as argument and returns the list of integers appear only once.\n",
    "    - Example: `unique_elements([1, 2, 3, 2, 3, 4])` -> [1, 4]"
   ]
  }
 ],
 "metadata": {
  "language_info": {
   "name": "python"
  }
 },
 "nbformat": 4,
 "nbformat_minor": 2
}
