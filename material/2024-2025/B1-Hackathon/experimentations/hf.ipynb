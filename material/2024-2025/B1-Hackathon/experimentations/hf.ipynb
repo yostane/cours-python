{
 "cells": [
  {
   "cell_type": "code",
   "execution_count": null,
   "metadata": {},
   "outputs": [],
   "source": [
    "from transformers import AutoModelForCausalLM, AutoTokenizer\n",
    "import torch\n",
    "\n",
    "\n",
    "tokenizer = AutoTokenizer.from_pretrained(\"microsoft/DialoGPT-large\")\n",
    "model = AutoModelForCausalLM.from_pretrained(\"microsoft/DialoGPT-large\")\n",
    "\n",
    "# Let's chat for 5 lines\n",
    "for step in range(5):\n",
    "    # encode the new user input, add the eos_token and return a tensor in Pytorch\n",
    "    new_user_input_ids = tokenizer.encode(input(\">> User:\") + tokenizer.eos_token, return_tensors='pt')\n",
    "\n",
    "    # append the new user input tokens to the chat history\n",
    "    bot_input_ids = torch.cat([chat_history_ids, new_user_input_ids], dim=-1) if step > 0 else new_user_input_ids\n",
    "\n",
    "    # generated a response while limiting the total chat history to 1000 tokens, \n",
    "    chat_history_ids = model.generate(bot_input_ids, max_length=1000, pad_token_id=tokenizer.eos_token_id)\n",
    "\n",
    "    # pretty print last ouput tokens from bot\n",
    "    print(\"DialoGPT: {}\".format(tokenizer.decode(chat_history_ids[:, bot_input_ids.shape[-1]:][0], skip_special_tokens=True)))\n"
   ]
  },
  {
   "cell_type": "code",
   "execution_count": null,
   "metadata": {},
   "outputs": [
    {
     "data": {
      "application/vnd.jupyter.widget-view+json": {
       "model_id": "1b5459d28103453481657542681534ad",
       "version_major": 2,
       "version_minor": 0
      },
      "text/plain": [
       "Loading checkpoint shards:   0%|          | 0/2 [00:00<?, ?it/s]"
      ]
     },
     "metadata": {},
     "output_type": "display_data"
    },
    {
     "name": "stderr",
     "output_type": "stream",
     "text": [
      "c:\\dev\\github\\cours\\cours-python\\material\\2024-2025\\B1-Hackathon\\.venv\\Lib\\site-packages\\transformers\\generation\\configuration_utils.py:590: UserWarning: `do_sample` is set to `False`. However, `temperature` is set to `0.0` -- this flag is only used in sample-based generation modes. You should set `do_sample=True` or unset `temperature`.\n",
      "  warnings.warn(\n",
      "The `seen_tokens` attribute is deprecated and will be removed in v4.41. Use the `cache_position` model input instead.\n",
      "`get_max_cache()` is deprecated for all Cache classes. Use `get_max_cache_shape()` instead. Calling `get_max_cache()` will raise error from v4.48\n",
      "You are not running the flash-attention implementation, expect numerical differences.\n"
     ]
    }
   ],
   "source": [
    "import torch \n",
    "from transformers import AutoModelForCausalLM, AutoTokenizer, pipeline \n",
    "\n",
    "torch.random.manual_seed(0) \n",
    "model = AutoModelForCausalLM.from_pretrained( \n",
    "    \"microsoft/Phi-3-mini-4k-instruct\",\n",
    "    torch_dtype=\"auto\",  \n",
    "    trust_remote_code=True,  \n",
    ") \n",
    "\n",
    "tokenizer = AutoTokenizer.from_pretrained(\"microsoft/Phi-3-mini-4k-instruct\") \n",
    "\n",
    "messages = [ \n",
    "    {\"role\": \"system\", \"content\": \"\"\"Vous êtes un assistant IA utile et qui connait tout ce qu'il faut savoir sur une école qui s'appelle ynov\n",
    "     basées sur ces informations:\n",
    "     - Les Ydays , pépinières de projets\n",
    "L'objectif des Ydays est de permettre aux étudiants de mettre en pratique leurs compétences et leurs connaissances dans un environnement collaboratif et stimulant, tout en développant leur créativité et en renforçant leur expérience professionnelle. \n",
    "\n",
    "C'est également l'occasion pour les étudiants de travailler en équipe et de collaborer avec des experts de l'industrie et des professionnels du secteur.\n",
    "\n",
    "Les Ydays offrent aux étudiants l'opportunité de concrétiser leurs idées et de développer des projets concrets qui peuvent avoir un impact réel dans leur domaine d'études.\n",
    "     Qui sommes nous\n",
    "Anil BENARD-DENDE rencontre Michel DENISOT\n",
    "Ynov, l’école innovante dédiée aux métiers de demain\n",
    "YNOV investit en faveur d’une pédagogie active qui prépare les étudiants à devenir les futurs talents d’une économie innovante. Au sein de nos campus, les étudiants se donnent les moyens d’acquérir les compétences dont ils auront besoin pour développer leur profil et s’épanouir dans le monde de demain.\n",
    "\n",
    "Apprendre en faisant\n",
    "Notre pédagogie consiste à mixer des enseignements avec des projets qui permettent de mettre les étudiants au coeur d’une situation réelle et les placer en position d’acteur.\n",
    "\n",
    "En plus des cours enseignés par des intervenants professionnels, les étudiants participent dès leur entrée aux Ymmersions (3 semaines de quêtes autonomes qui leur permettent d’oser tenter, d’oser échouer et d’oser réussir).\n",
    "\n",
    "Tout au long de l’année ils participent aux YDAYS autour d’un projet commun.\n",
    "\n",
    "Challenges 48H, concours, expositions, …\n",
    "\n",
    "Les Ydays\n",
    "notre pédagogie\n",
    "Notre pédagogie\n",
    "Un cursus adapté à chaque profil\n",
    "Nos étudiants peuvent adapter leur cursus et choisir leur spécialité parmi 23 Bachelors et 28 Mastères :\n",
    "\n",
    "Informatique, Marketing & Communication, Création & Digital Design, Tech & Business, 3D, Animation & Jeux Vidéo, Audiovisuel, Architecture d’intérieur, Cybersécurité.\n",
    "\n",
    "Chez YNOV, l’entreprise participe activement\n",
    "Au delà des intervenants qui transmettent leurs expériences à nos étudiants; ils ont la possibilité de commencer leur carrière dès la 3e année de leur bachelor s’ils choisissent de suivre leur formation en alternance.\n",
    "\n",
    "Coralie, Community Manager\n",
    "L’intelligence collective au service du numérique\n",
    "La pluridisciplinarité fait notre force, et sera un atout majeur pour les prochaines générations. S’intéresser et apprendre plusieurs disciplines permet de s’ouvrir davantage aux besoins des entreprises à la recherche de profils complémentaires et curieux. Toutes ces disciplines trouvent leur ancrage dans le numérique, qui apparaît comme un élément fédérateur qui rapproche les personnes et gomme les différences.\n",
    "\n",
    "Tremplin pro\n",
    "Un tremplin vers la professionnalisation\n",
    "Nos cursus sont conçus dès la première année pour permettre à nos étudiants de s’ouvrir au monde du travail et de découvrir l’univers de l’entreprise.\n",
    "\n",
    "La valeur ajoutée d’YNOV réside incontestablement dans l’accompagnement proposé aux étudiants dans cette démarche. Grâce à une équipe dédiée sur chaque campus et des outils spécialisés visant à faciliter leur placement en entreprise, tout est mis en œuvre pour leur assurer une expérience en phase avec leur projet professionnel.\n",
    "\n",
    "Et la reconnaissance de votre expérience\n",
    "YNOV propose des parcours en VAE pour valoriser vos compétences professionnelles et valider un titre, de niveau 7 ou 6 enregistré au RNCP.\n",
    "\n",
    "Focus Compétence\n",
    "Ynov Recrute\n",
    "Accédez aux offres d'emploi\n",
    "Ynov CAPC\n",
    "85%\n",
    "des entreprises recommandent YNOV comme organisme de formation*\n",
    "\n",
    "87%\n",
    "des entreprises trouvent que le contenu de la formation proposé par Ynov est pertinent au regard des compétences à développer par les apprenants dans le cadre de leur activité professionnelle*\n",
    "\n",
    "*Enquête réalisée en Juin 2022 auprès de 3356 entreprises, sur la base de 389 entreprises ayant répondu\n",
    "     \"\"\"}, \n",
    "    {\"role\": \"user\", \"content\": \"Qu'est-ce que Ynov?\"}, \n",
    "    {\"role\": \"assistant\", \"content\": \"Ynov est une école innovante de l'art du numérique\"}, \n",
    "    {\"role\": \"user\", \"content\": \"A quoi correspondent les YDays ?\"}, \n",
    "] \n",
    "\n",
    "pipe = pipeline( \n",
    "    \"text-generation\", \n",
    "    model=model, \n",
    "    tokenizer=tokenizer, \n",
    ") \n",
    "\n",
    "generation_args = { \n",
    "    \"max_new_tokens\": 500, \n",
    "    \"return_full_text\": False, \n",
    "    \"temperature\": 0.0, \n",
    "    \"do_sample\": False, \n",
    "} \n",
    "\n",
    "output = pipe(messages, **generation_args) \n",
    "print(output[0]['generated_text']) "
   ]
  }
 ],
 "metadata": {
  "kernelspec": {
   "display_name": ".venv",
   "language": "python",
   "name": "python3"
  },
  "language_info": {
   "codemirror_mode": {
    "name": "ipython",
    "version": 3
   },
   "file_extension": ".py",
   "mimetype": "text/x-python",
   "name": "python",
   "nbconvert_exporter": "python",
   "pygments_lexer": "ipython3",
   "version": "3.12.7"
  }
 },
 "nbformat": 4,
 "nbformat_minor": 2
}
