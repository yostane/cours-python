{
 "cells": [
  {
   "cell_type": "markdown",
   "metadata": {},
   "source": [
    "# Hello notebook\n",
    "This is some markdown"
   ]
  },
  {
   "cell_type": "code",
   "execution_count": 1,
   "metadata": {},
   "outputs": [
    {
     "data": {
      "text/plain": [
       "50"
      ]
     },
     "execution_count": 1,
     "metadata": {},
     "output_type": "execute_result"
    }
   ],
   "source": [
    "a = 10\n",
    "b = 40\n",
    "a + b"
   ]
  },
  {
   "cell_type": "code",
   "execution_count": 1,
   "metadata": {},
   "outputs": [
    {
     "name": "stdout",
     "output_type": "stream",
     "text": [
      "a\n",
      "bc\n",
      "def\n",
      "a\n",
      "bc\n",
      "def\n",
      "ghij\n",
      "klmno\n",
      "pqrstu\n",
      "a\n",
      "bc\n",
      "def\n",
      "ghij\n",
      "klmno\n",
      "pqrstu\n",
      "vwxyzab\n",
      "cdefghij\n",
      "klmnopqrs\n",
      "tuvwxyzabc\n",
      "defghijklmn\n",
      "opqrstuvwxyz\n",
      "abcdefghijklm\n",
      "nopqrstuvwxyza\n",
      "bcdefghijklmnop\n",
      "qrstuvwxyzabcdef\n",
      "ghijklmnopqrstuvw\n",
      "xyzabcdefghijklmno\n",
      "pqrstuvwxyzabcdefgh\n",
      "ijklmnopqrstuvwxyzab\n",
      "cdefghijklmnopqrstuvw\n",
      "xyzabcdefghijklmnopqrs\n"
     ]
    }
   ],
   "source": [
    "# abcdefghij\n",
    "# line 0 -> a we take substring (0, 1)\n",
    "# line 1 -> bc (1, 3)\n",
    "# line 2 -> def (3, 6)\n",
    "# line 3 -> ghij (6, 10)\n",
    "# line l -> (Current index, current index + l + 1)\n",
    "# Current index += l + 1\n",
    "\n",
    "\n",
    "def print_pyramide(input):\n",
    "    i = 0\n",
    "    current_line = 0\n",
    "    while i + current_line + 1 < len(input):\n",
    "        print(input[i : i + current_line + 1])\n",
    "        i += current_line + 1\n",
    "        current_line += 1\n",
    "\n",
    "\n",
    "print_pyramide(\"abcdefghij\")\n",
    "print_pyramide(\"abcdefghijklmnopqrstuvwxyz\")\n",
    "print_pyramide(\"abcdefghijklmnopqrstuvwxyz\" * 10)"
   ]
  },
  {
   "cell_type": "code",
   "execution_count": 1,
   "metadata": {},
   "outputs": [
    {
     "name": "stdout",
     "output_type": "stream",
     "text": [
      "['As', 'Roi', 'Reine', 'Valet', 2, 3, 4, 5, 6, 7, 8, 9, 10]\n",
      "[('♥️', 'As'), ('♥️', 'Roi'), ('♥️', 'Reine'), ('♥️', 'Valet'), ('♥️', 2), ('♥️', 3), ('♥️', 4), ('♥️', 5), ('♥️', 6), ('♥️', 7), ('♥️', 8), ('♥️', 9), ('♥️', 10), ('♠️', 'As'), ('♠️', 'Roi'), ('♠️', 'Reine'), ('♠️', 'Valet'), ('♠️', 2), ('♠️', 3), ('♠️', 4), ('♠️', 5), ('♠️', 6), ('♠️', 7), ('♠️', 8), ('♠️', 9), ('♠️', 10), ('♣️', 'As'), ('♣️', 'Roi'), ('♣️', 'Reine'), ('♣️', 'Valet'), ('♣️', 2), ('♣️', 3), ('♣️', 4), ('♣️', 5), ('♣️', 6), ('♣️', 7), ('♣️', 8), ('♣️', 9), ('♣️', 10), ('♦️', 'As'), ('♦️', 'Roi'), ('♦️', 'Reine'), ('♦️', 'Valet'), ('♦️', 2), ('♦️', 3), ('♦️', 4), ('♦️', 5), ('♦️', 6), ('♦️', 7), ('♦️', 8), ('♦️', 9), ('♦️', 10)]\n"
     ]
    }
   ],
   "source": [
    "# cartes\n",
    "symbols = (\"♥️\", \"♠️\", \"♣️\", \"♦️\")\n",
    "ranks = [\"As\", \"Roi\", \"Reine\", \"Valet\"] + [*range(2, 11)]\n",
    "print(ranks)\n",
    "cards = [(symbol, rank) for symbol in symbols for rank in ranks]\n",
    "print(cards)"
   ]
  }
 ],
 "metadata": {
  "kernelspec": {
   "display_name": "Python 3",
   "language": "python",
   "name": "python3"
  },
  "language_info": {
   "codemirror_mode": {
    "name": "ipython",
    "version": 3
   },
   "file_extension": ".py",
   "mimetype": "text/x-python",
   "name": "python",
   "nbconvert_exporter": "python",
   "pygments_lexer": "ipython3",
   "version": "3.11.9"
  }
 },
 "nbformat": 4,
 "nbformat_minor": 2
}
