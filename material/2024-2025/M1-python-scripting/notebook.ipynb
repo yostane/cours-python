{
 "cells": [
  {
   "cell_type": "markdown",
   "metadata": {},
   "source": [
    "# Hello notebook\n",
    "This is some markdown"
   ]
  },
  {
   "cell_type": "code",
   "execution_count": 1,
   "metadata": {},
   "outputs": [
    {
     "data": {
      "text/plain": [
       "50"
      ]
     },
     "execution_count": 1,
     "metadata": {},
     "output_type": "execute_result"
    }
   ],
   "source": [
    "a = 10\n",
    "b = 40\n",
    "a + b"
   ]
  },
  {
   "cell_type": "code",
   "execution_count": 1,
   "metadata": {},
   "outputs": [
    {
     "name": "stdout",
     "output_type": "stream",
     "text": [
      "a\n",
      "bc\n",
      "def\n",
      "a\n",
      "bc\n",
      "def\n",
      "ghij\n",
      "klmno\n",
      "pqrstu\n",
      "a\n",
      "bc\n",
      "def\n",
      "ghij\n",
      "klmno\n",
      "pqrstu\n",
      "vwxyzab\n",
      "cdefghij\n",
      "klmnopqrs\n",
      "tuvwxyzabc\n",
      "defghijklmn\n",
      "opqrstuvwxyz\n",
      "abcdefghijklm\n",
      "nopqrstuvwxyza\n",
      "bcdefghijklmnop\n",
      "qrstuvwxyzabcdef\n",
      "ghijklmnopqrstuvw\n",
      "xyzabcdefghijklmno\n",
      "pqrstuvwxyzabcdefgh\n",
      "ijklmnopqrstuvwxyzab\n",
      "cdefghijklmnopqrstuvw\n",
      "xyzabcdefghijklmnopqrs\n"
     ]
    }
   ],
   "source": [
    "# abcdefghij\n",
    "# ligne 0 -> a we take substring (0, 1)\n",
    "# ligne 1 -> bc (1, 3)\n",
    "# ligne 2 -> def (3, 6)\n",
    "# ligne 3 -> ghij (6, 10)\n",
    "# ligne l -> (Current index, current index + l + 1)\n",
    "# Current index += l + 1\n",
    "\n",
    "\n",
    "def print_pyramide(input):\n",
    "    i = 0\n",
    "    current_line = 0\n",
    "    while i + current_line + 1 < len(input):\n",
    "        print(input[i : i + current_line + 1])\n",
    "        i += current_line + 1\n",
    "        current_line += 1\n",
    "\n",
    "\n",
    "print_pyramide(\"abcdefghij\")\n",
    "print_pyramide(\"abcdefghijklmnopqrstuvwxyz\")\n",
    "print_pyramide(\"abcdefghijklmnopqrstuvwxyz\" * 10)"
   ]
  }
 ],
 "metadata": {
  "kernelspec": {
   "display_name": "Python 3",
   "language": "python",
   "name": "python3"
  },
  "language_info": {
   "codemirror_mode": {
    "name": "ipython",
    "version": 3
   },
   "file_extension": ".py",
   "mimetype": "text/x-python",
   "name": "python",
   "nbconvert_exporter": "python",
   "pygments_lexer": "ipython3",
   "version": "3.11.9"
  }
 },
 "nbformat": 4,
 "nbformat_minor": 2
}
