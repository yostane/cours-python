{
 "cells": [
  {
   "cell_type": "markdown",
   "metadata": {},
   "source": [
    "# Exercices d'introduction à Python\n",
    "\n",
    "1. Lire la saisie de l'utilisateur. Afficher \"Hello, World!\" si l'utilisateur saisit \"Hello\". Sinon, afficher \"Hello, World! What's your name?\".\n",
    "1. Lire la saisie de l'utilisateur. Afficher le nombre de caractères de sa saisie."
   ]
  },
  {
   "cell_type": "code",
   "execution_count": 3,
   "metadata": {},
   "outputs": [
    {
     "name": "stdout",
     "output_type": "stream",
     "text": [
      "Hello, World! What's your name?\n",
      "vous avez saisi 10 caractères\n"
     ]
    }
   ],
   "source": [
    "x = input(\"Veuilez saisir : \")\n",
    "if x == \"Hello\":\n",
    "  print(\"Hello, World!\")\n",
    "else:\n",
    "  print(\"Hello, World! What's your name?\")\n",
    "print(\"vous avez saisi\", len(x), \"caractères\")"
   ]
  }
 ],
 "metadata": {
  "kernelspec": {
   "display_name": "Python 3",
   "language": "python",
   "name": "python3"
  },
  "language_info": {
   "codemirror_mode": {
    "name": "ipython",
    "version": 3
   },
   "file_extension": ".py",
   "mimetype": "text/x-python",
   "name": "python",
   "nbconvert_exporter": "python",
   "pygments_lexer": "ipython3",
   "version": "3.12.8"
  }
 },
 "nbformat": 4,
 "nbformat_minor": 2
}
