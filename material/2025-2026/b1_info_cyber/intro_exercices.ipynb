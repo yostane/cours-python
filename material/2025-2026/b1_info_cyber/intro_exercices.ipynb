{
 "cells": [
  {
   "cell_type": "markdown",
   "metadata": {},
   "source": [
    "# Exercices d'introduction à Python\n",
    "\n",
    "## Partie 1\n",
    "\n",
    "1. Lire la saisie de l'utilisateur. Afficher \"Hello, World!\" si l'utilisateur saisit \"Hello\". Sinon, afficher \"Hello, World! What's your name?\".\n",
    "1. Lire la saisie de l'utilisateur. Afficher le nombre de caractères de sa saisie."
   ]
  },
  {
   "cell_type": "code",
   "execution_count": 3,
   "metadata": {},
   "outputs": [
    {
     "name": "stdout",
     "output_type": "stream",
     "text": [
      "Hello, World! What's your name?\n",
      "vous avez saisi 10 caractères\n"
     ]
    }
   ],
   "source": [
    "x = input(\"Veuilez saisir : \")\n",
    "if x == \"Hello\":\n",
    "  print(\"Hello, World!\")\n",
    "else:\n",
    "  print(\"Hello, World! What's your name?\")\n",
    "print(\"vous avez saisi\", len(x), \"caractères\")"
   ]
  },
  {
   "cell_type": "markdown",
   "metadata": {},
   "source": [
    "## Partie 2\n",
    "\n",
    "1. Lire un entier saisi par l'utilisateur. Afficher s'il est \"strictement positif\", \"nul\" ou \"strictement négatif\".\n",
    "1. Lire deux entiers saisis par l'utilisateur. Afficher le plus grand des deux.\n",
    "1. Lire un entier saisi par l'utilisateur. Afficher \"pair\" si l'entier est pair, \"impair\" sinon.\n"
   ]
  }
 ],
 "metadata": {
  "kernelspec": {
   "display_name": "Python 3",
   "language": "python",
   "name": "python3"
  },
  "language_info": {
   "codemirror_mode": {
    "name": "ipython",
    "version": 3
   },
   "file_extension": ".py",
   "mimetype": "text/x-python",
   "name": "python",
   "nbconvert_exporter": "python",
   "pygments_lexer": "ipython3",
   "version": "3.12.8"
  }
 },
 "nbformat": 4,
 "nbformat_minor": 2
}
